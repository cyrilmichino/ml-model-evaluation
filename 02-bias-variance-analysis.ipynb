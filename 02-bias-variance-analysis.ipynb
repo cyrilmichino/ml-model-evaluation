{
 "cells": [
  {
   "cell_type": "markdown",
   "id": "d67cd4af",
   "metadata": {},
   "source": [
    "# Bias Variance Analysis\n",
    "**All errors in machine learning are as a result of high bias or high variance.**\n",
    "\n",
    "In this notebook, we'll learn exactly how to identify when your model has high bias (underfitting) or high variance (overfitting)  and how to optimise the model for the perfect bias-variance trade-off. Here is an overview of what will be covered:\n",
    "\n",
    "1. The bias-variance trade-off\n",
    "1. Optimising for Bias/Variance: Model Hyperparameters, Outside Hyperparameters\n",
    "2. Diagnosing for Bias/Variance: Learning Curves, Loss Curves, and Validation Curves\n",
    "3. Bonus 1: Baseline Models (Incremental Optimisation)\n",
    "4. Bonus 2: Handling Imbalance Datasets"
   ]
  },
  {
   "cell_type": "markdown",
   "id": "a62e4d5a",
   "metadata": {},
   "source": [
    "## The Bias Variance Trade-Off"
   ]
  },
  {
   "cell_type": "markdown",
   "id": "be2323ff",
   "metadata": {},
   "source": [
    "## Optimising for Bias/Variance"
   ]
  },
  {
   "cell_type": "markdown",
   "id": "996fa6de",
   "metadata": {},
   "source": [
    "## Diagnosing for Bias/Variance"
   ]
  },
  {
   "cell_type": "markdown",
   "id": "c6af8038",
   "metadata": {},
   "source": [
    "## Baseline Models (Incremantal Optimisation)"
   ]
  },
  {
   "cell_type": "markdown",
   "id": "f06ed184",
   "metadata": {},
   "source": [
    "## Imbalanced Datasets (Classification Problems)"
   ]
  }
 ],
 "metadata": {
  "kernelspec": {
   "display_name": "Python 3",
   "language": "python",
   "name": "python3"
  },
  "language_info": {
   "name": "python",
   "version": "3.13.2"
  }
 },
 "nbformat": 4,
 "nbformat_minor": 5
}
